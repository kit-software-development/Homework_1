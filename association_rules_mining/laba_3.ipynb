{
 "cells": [
  {
   "cell_type": "markdown",
   "metadata": {},
   "source": [
    "# Association rule mining"
   ]
  },
  {
   "cell_type": "code",
   "execution_count": 48,
   "metadata": {},
   "outputs": [],
   "source": [
    "import numpy as np\n",
    "import pandas as pd\n",
    "from mlxtend.frequent_patterns import apriori, association_rules"
   ]
  },
  {
   "cell_type": "markdown",
   "metadata": {},
   "source": [
    "### Mlxtend (machine learning extensions) \n",
    "\n",
    "Python library of useful tools for the day-to-day data science tasks.\n",
    "\n",
    "http://rasbt.github.io/mlxtend/api_subpackages/mlxtend.frequent_patterns/"
   ]
  },
  {
   "cell_type": "markdown",
   "metadata": {},
   "source": [
    "### Load data"
   ]
  },
  {
   "cell_type": "code",
   "execution_count": 3,
   "metadata": {},
   "outputs": [
    {
     "ename": "NameError",
     "evalue": "name 'pd' is not defined",
     "output_type": "error",
     "traceback": [
      "\u001b[1;31m---------------------------------------------------------------------------\u001b[0m",
      "\u001b[1;31mNameError\u001b[0m                                 Traceback (most recent call last)",
      "\u001b[1;32m<ipython-input-3-e060b1c6d5b8>\u001b[0m in \u001b[0;36m<module>\u001b[1;34m\u001b[0m\n\u001b[1;32m----> 1\u001b[1;33m \u001b[0mdata\u001b[0m \u001b[1;33m=\u001b[0m \u001b[0mpd\u001b[0m\u001b[1;33m.\u001b[0m\u001b[0mread_csv\u001b[0m\u001b[1;33m(\u001b[0m\u001b[1;34m\"./supermarket_short.csv\"\u001b[0m\u001b[1;33m)\u001b[0m\u001b[1;33m\u001b[0m\u001b[1;33m\u001b[0m\u001b[0m\n\u001b[0m\u001b[0;32m      2\u001b[0m \u001b[0mdata\u001b[0m\u001b[1;33m.\u001b[0m\u001b[0mhead\u001b[0m \u001b[1;33m(\u001b[0m\u001b[1;36m10\u001b[0m\u001b[1;33m)\u001b[0m\u001b[1;33m\u001b[0m\u001b[1;33m\u001b[0m\u001b[0m\n",
      "\u001b[1;31mNameError\u001b[0m: name 'pd' is not defined"
     ]
    }
   ],
   "source": [
    "data = pd.read_csv(\"./supermarket_short.csv\")\n",
    "data.head (10)"
   ]
  },
  {
   "cell_type": "markdown",
   "metadata": {},
   "source": [
    "### Find frequent itemsets and rules"
   ]
  },
  {
   "cell_type": "code",
   "execution_count": 1,
   "metadata": {},
   "outputs": [
    {
     "ename": "NameError",
     "evalue": "name 'apriori' is not defined",
     "output_type": "error",
     "traceback": [
      "\u001b[1;31m---------------------------------------------------------------------------\u001b[0m",
      "\u001b[1;31mNameError\u001b[0m                                 Traceback (most recent call last)",
      "\u001b[1;32m<ipython-input-1-62d8052e0e6b>\u001b[0m in \u001b[0;36m<module>\u001b[1;34m\u001b[0m\n\u001b[1;32m----> 1\u001b[1;33m \u001b[0mfrequent_itemsets\u001b[0m \u001b[1;33m=\u001b[0m \u001b[0mapriori\u001b[0m\u001b[1;33m(\u001b[0m\u001b[0mdata\u001b[0m\u001b[1;33m,\u001b[0m \u001b[0mmin_support\u001b[0m\u001b[1;33m=\u001b[0m\u001b[1;36m0.2\u001b[0m\u001b[1;33m,\u001b[0m \u001b[0muse_colnames\u001b[0m\u001b[1;33m=\u001b[0m\u001b[1;32mTrue\u001b[0m\u001b[1;33m)\u001b[0m\u001b[1;33m\u001b[0m\u001b[1;33m\u001b[0m\u001b[0m\n\u001b[0m",
      "\u001b[1;31mNameError\u001b[0m: name 'apriori' is not defined"
     ]
    }
   ],
   "source": [
    "frequent_itemsets = apriori(data, min_support=0.2, use_colnames=True)"
   ]
  },
  {
   "cell_type": "code",
   "execution_count": 2,
   "metadata": {},
   "outputs": [
    {
     "ename": "NameError",
     "evalue": "name 'association_rules' is not defined",
     "output_type": "error",
     "traceback": [
      "\u001b[1;31m---------------------------------------------------------------------------\u001b[0m",
      "\u001b[1;31mNameError\u001b[0m                                 Traceback (most recent call last)",
      "\u001b[1;32m<ipython-input-2-5f8092f21a2f>\u001b[0m in \u001b[0;36m<module>\u001b[1;34m\u001b[0m\n\u001b[1;32m----> 1\u001b[1;33m \u001b[0mrules\u001b[0m \u001b[1;33m=\u001b[0m \u001b[0massociation_rules\u001b[0m\u001b[1;33m(\u001b[0m\u001b[0mfrequent_itemsets\u001b[0m\u001b[1;33m,\u001b[0m \u001b[0mmetric\u001b[0m\u001b[1;33m=\u001b[0m\u001b[1;34m\"confidence\"\u001b[0m\u001b[1;33m,\u001b[0m \u001b[0mmin_threshold\u001b[0m\u001b[1;33m=\u001b[0m\u001b[1;36m0.3\u001b[0m\u001b[1;33m)\u001b[0m\u001b[1;33m\u001b[0m\u001b[1;33m\u001b[0m\u001b[0m\n\u001b[0m",
      "\u001b[1;31mNameError\u001b[0m: name 'association_rules' is not defined"
     ]
    }
   ],
   "source": [
    "rules = association_rules(frequent_itemsets, metric=\"confidence\", min_threshold=0.3)"
   ]
  },
  {
   "cell_type": "markdown",
   "metadata": {},
   "source": [
    "### Add antecedent lenght column"
   ]
  },
  {
   "cell_type": "code",
   "execution_count": 52,
   "metadata": {},
   "outputs": [],
   "source": [
    "rules[\"antecedent_len\"] = rules[\"antecedents\"].apply(lambda x: len(x))"
   ]
  },
  {
   "cell_type": "markdown",
   "metadata": {},
   "source": [
    "### Filter rules"
   ]
  },
  {
   "cell_type": "code",
   "execution_count": 53,
   "metadata": {
    "scrolled": true
   },
   "outputs": [
    {
     "data": {
      "text/html": [
       "<div>\n",
       "<style scoped>\n",
       "    .dataframe tbody tr th:only-of-type {\n",
       "        vertical-align: middle;\n",
       "    }\n",
       "\n",
       "    .dataframe tbody tr th {\n",
       "        vertical-align: top;\n",
       "    }\n",
       "\n",
       "    .dataframe thead th {\n",
       "        text-align: right;\n",
       "    }\n",
       "</style>\n",
       "<table border=\"1\" class=\"dataframe\">\n",
       "  <thead>\n",
       "    <tr style=\"text-align: right;\">\n",
       "      <th></th>\n",
       "      <th>antecedents</th>\n",
       "      <th>consequents</th>\n",
       "      <th>antecedent support</th>\n",
       "      <th>consequent support</th>\n",
       "      <th>support</th>\n",
       "      <th>confidence</th>\n",
       "      <th>lift</th>\n",
       "      <th>leverage</th>\n",
       "      <th>conviction</th>\n",
       "      <th>antecedent_len</th>\n",
       "    </tr>\n",
       "  </thead>\n",
       "  <tbody>\n",
       "    <tr>\n",
       "      <th>9929</th>\n",
       "      <td>(baking needs, frozen foods, biscuits, fruit, ...</td>\n",
       "      <td>(bread and cake)</td>\n",
       "      <td>0.172034</td>\n",
       "      <td>0.719689</td>\n",
       "      <td>0.154744</td>\n",
       "      <td>0.899497</td>\n",
       "      <td>1.249842</td>\n",
       "      <td>0.030933</td>\n",
       "      <td>2.789097</td>\n",
       "      <td>5</td>\n",
       "    </tr>\n",
       "    <tr>\n",
       "      <th>9348</th>\n",
       "      <td>(frozen foods, biscuits, milk-cream, vegetables)</td>\n",
       "      <td>(bread and cake)</td>\n",
       "      <td>0.197752</td>\n",
       "      <td>0.719689</td>\n",
       "      <td>0.177005</td>\n",
       "      <td>0.895082</td>\n",
       "      <td>1.243707</td>\n",
       "      <td>0.034684</td>\n",
       "      <td>2.671716</td>\n",
       "      <td>4</td>\n",
       "    </tr>\n",
       "    <tr>\n",
       "      <th>9513</th>\n",
       "      <td>(biscuits, fruit, margarine, vegetables)</td>\n",
       "      <td>(bread and cake)</td>\n",
       "      <td>0.185001</td>\n",
       "      <td>0.719689</td>\n",
       "      <td>0.165550</td>\n",
       "      <td>0.894860</td>\n",
       "      <td>1.243398</td>\n",
       "      <td>0.032407</td>\n",
       "      <td>2.666071</td>\n",
       "      <td>4</td>\n",
       "    </tr>\n",
       "    <tr>\n",
       "      <th>9407</th>\n",
       "      <td>(frozen foods, biscuits, fruit, vegetables)</td>\n",
       "      <td>(bread and cake)</td>\n",
       "      <td>0.224552</td>\n",
       "      <td>0.719689</td>\n",
       "      <td>0.200778</td>\n",
       "      <td>0.894129</td>\n",
       "      <td>1.242383</td>\n",
       "      <td>0.039171</td>\n",
       "      <td>2.647667</td>\n",
       "      <td>4</td>\n",
       "    </tr>\n",
       "    <tr>\n",
       "      <th>9326</th>\n",
       "      <td>(frozen foods, biscuits, milk-cream, fruit)</td>\n",
       "      <td>(bread and cake)</td>\n",
       "      <td>0.203372</td>\n",
       "      <td>0.719689</td>\n",
       "      <td>0.181543</td>\n",
       "      <td>0.892667</td>\n",
       "      <td>1.240352</td>\n",
       "      <td>0.035179</td>\n",
       "      <td>2.611612</td>\n",
       "      <td>4</td>\n",
       "    </tr>\n",
       "    <tr>\n",
       "      <th>...</th>\n",
       "      <td>...</td>\n",
       "      <td>...</td>\n",
       "      <td>...</td>\n",
       "      <td>...</td>\n",
       "      <td>...</td>\n",
       "      <td>...</td>\n",
       "      <td>...</td>\n",
       "      <td>...</td>\n",
       "      <td>...</td>\n",
       "      <td>...</td>\n",
       "    </tr>\n",
       "    <tr>\n",
       "      <th>7134</th>\n",
       "      <td>(fruit, vegetables)</td>\n",
       "      <td>(biscuits, juice-sat-cord-ms)</td>\n",
       "      <td>0.476983</td>\n",
       "      <td>0.333261</td>\n",
       "      <td>0.190836</td>\n",
       "      <td>0.400091</td>\n",
       "      <td>1.200531</td>\n",
       "      <td>0.031876</td>\n",
       "      <td>1.111399</td>\n",
       "      <td>2</td>\n",
       "    </tr>\n",
       "    <tr>\n",
       "      <th>3491</th>\n",
       "      <td>(milk-cream, bread and cake)</td>\n",
       "      <td>(juice-sat-cord-ms, baking needs)</td>\n",
       "      <td>0.505079</td>\n",
       "      <td>0.349903</td>\n",
       "      <td>0.202075</td>\n",
       "      <td>0.400086</td>\n",
       "      <td>1.143419</td>\n",
       "      <td>0.025346</td>\n",
       "      <td>1.083650</td>\n",
       "      <td>2</td>\n",
       "    </tr>\n",
       "    <tr>\n",
       "      <th>3848</th>\n",
       "      <td>(frozen foods)</td>\n",
       "      <td>(milk-cream, bread and cake, baking needs)</td>\n",
       "      <td>0.587206</td>\n",
       "      <td>0.341474</td>\n",
       "      <td>0.234925</td>\n",
       "      <td>0.400074</td>\n",
       "      <td>1.171608</td>\n",
       "      <td>0.034410</td>\n",
       "      <td>1.097678</td>\n",
       "      <td>1</td>\n",
       "    </tr>\n",
       "    <tr>\n",
       "      <th>1586</th>\n",
       "      <td>(baking needs)</td>\n",
       "      <td>(frozen foods, tissues-paper prd)</td>\n",
       "      <td>0.604063</td>\n",
       "      <td>0.325265</td>\n",
       "      <td>0.241625</td>\n",
       "      <td>0.400000</td>\n",
       "      <td>1.229767</td>\n",
       "      <td>0.045145</td>\n",
       "      <td>1.124559</td>\n",
       "      <td>1</td>\n",
       "    </tr>\n",
       "    <tr>\n",
       "      <th>4814</th>\n",
       "      <td>(party snack foods)</td>\n",
       "      <td>(biscuits, milk-cream, bread and cake)</td>\n",
       "      <td>0.503566</td>\n",
       "      <td>0.320942</td>\n",
       "      <td>0.201426</td>\n",
       "      <td>0.400000</td>\n",
       "      <td>1.246330</td>\n",
       "      <td>0.039811</td>\n",
       "      <td>1.131763</td>\n",
       "      <td>1</td>\n",
       "    </tr>\n",
       "  </tbody>\n",
       "</table>\n",
       "<p>9967 rows × 10 columns</p>\n",
       "</div>"
      ],
      "text/plain": [
       "                                            antecedents  \\\n",
       "9929  (baking needs, frozen foods, biscuits, fruit, ...   \n",
       "9348   (frozen foods, biscuits, milk-cream, vegetables)   \n",
       "9513           (biscuits, fruit, margarine, vegetables)   \n",
       "9407        (frozen foods, biscuits, fruit, vegetables)   \n",
       "9326        (frozen foods, biscuits, milk-cream, fruit)   \n",
       "...                                                 ...   \n",
       "7134                                (fruit, vegetables)   \n",
       "3491                       (milk-cream, bread and cake)   \n",
       "3848                                     (frozen foods)   \n",
       "1586                                     (baking needs)   \n",
       "4814                                (party snack foods)   \n",
       "\n",
       "                                     consequents  antecedent support  \\\n",
       "9929                            (bread and cake)            0.172034   \n",
       "9348                            (bread and cake)            0.197752   \n",
       "9513                            (bread and cake)            0.185001   \n",
       "9407                            (bread and cake)            0.224552   \n",
       "9326                            (bread and cake)            0.203372   \n",
       "...                                          ...                 ...   \n",
       "7134               (biscuits, juice-sat-cord-ms)            0.476983   \n",
       "3491           (juice-sat-cord-ms, baking needs)            0.505079   \n",
       "3848  (milk-cream, bread and cake, baking needs)            0.587206   \n",
       "1586           (frozen foods, tissues-paper prd)            0.604063   \n",
       "4814      (biscuits, milk-cream, bread and cake)            0.503566   \n",
       "\n",
       "      consequent support   support  confidence      lift  leverage  \\\n",
       "9929            0.719689  0.154744    0.899497  1.249842  0.030933   \n",
       "9348            0.719689  0.177005    0.895082  1.243707  0.034684   \n",
       "9513            0.719689  0.165550    0.894860  1.243398  0.032407   \n",
       "9407            0.719689  0.200778    0.894129  1.242383  0.039171   \n",
       "9326            0.719689  0.181543    0.892667  1.240352  0.035179   \n",
       "...                  ...       ...         ...       ...       ...   \n",
       "7134            0.333261  0.190836    0.400091  1.200531  0.031876   \n",
       "3491            0.349903  0.202075    0.400086  1.143419  0.025346   \n",
       "3848            0.341474  0.234925    0.400074  1.171608  0.034410   \n",
       "1586            0.325265  0.241625    0.400000  1.229767  0.045145   \n",
       "4814            0.320942  0.201426    0.400000  1.246330  0.039811   \n",
       "\n",
       "      conviction  antecedent_len  \n",
       "9929    2.789097               5  \n",
       "9348    2.671716               4  \n",
       "9513    2.666071               4  \n",
       "9407    2.647667               4  \n",
       "9326    2.611612               4  \n",
       "...          ...             ...  \n",
       "7134    1.111399               2  \n",
       "3491    1.083650               2  \n",
       "3848    1.097678               1  \n",
       "1586    1.124559               1  \n",
       "4814    1.131763               1  \n",
       "\n",
       "[9967 rows x 10 columns]"
      ]
     },
     "execution_count": 53,
     "metadata": {},
     "output_type": "execute_result"
    }
   ],
   "source": [
    "rules[ (rules['support'] > 0.15)].sort_values(by=['confidence'],ascending=False)"
   ]
  }
 ],
 "metadata": {
  "kernelspec": {
   "display_name": "Python 3",
   "language": "python",
   "name": "python3"
  },
  "language_info": {
   "codemirror_mode": {
    "name": "ipython",
    "version": 3
   },
   "file_extension": ".py",
   "mimetype": "text/x-python",
   "name": "python",
   "nbconvert_exporter": "python",
   "pygments_lexer": "ipython3",
   "version": "3.7.4"
  }
 },
 "nbformat": 4,
 "nbformat_minor": 2
}
